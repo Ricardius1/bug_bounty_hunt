{
 "cells": [
  {
   "cell_type": "code",
   "execution_count": 40,
   "id": "0fcf37ed-92a0-4876-8571-e700f98a6d7f",
   "metadata": {},
   "outputs": [
    {
     "name": "stdout",
     "output_type": "stream",
     "text": [
      "https://post.craigslist.org/c/ldn?lang=poop&cc=gb/\n",
      "https://post.craigslist.org/c/ldn?lang=grofladsfd&cc=gb/\n"
     ]
    }
   ],
   "source": [
    "import random\n",
    "\n",
    "def get_equals_list(url):\n",
    "    equals_list = [i for i, ltr in enumerate(url) if ltr == \"=\"]\n",
    "    return equals_list\n",
    "\n",
    "def get_signs_list(url):\n",
    "    sign_list = [i for i, ltr in enumerate(url) if ltr in [\"=\", \"&\", \"?\"]]\n",
    "    return sign_list\n",
    "\n",
    "url = 'https://post.craigslist.org/c/ldn?lang=en&cc=gb/'\n",
    "value1 = random.choice(get_equals_list(url)) + 1\n",
    "value2 = 0\n",
    "for i in get_signs_list(url):\n",
    "    if i > value1:\n",
    "        value2 = i\n",
    "        break\n",
    "    else:\n",
    "        value2 = -1\n",
    "\n",
    "payload = \"poop\"\n",
    "new_str = f'{url[:value1]}{payload}{url[value2:]}'\n",
    "\n",
    "\n",
    "print(new_str)\n",
    "\n",
    "payload = \"grofladsfd\"\n",
    "new_str = f'{url[:value1]}{payload}{url[value2:]}'\n",
    "print(new_str)"
   ]
  },
  {
   "cell_type": "code",
   "execution_count": null,
   "id": "da9805cd-4785-45d7-afa2-f1bfd5b091e2",
   "metadata": {},
   "outputs": [],
   "source": []
  }
 ],
 "metadata": {
  "kernelspec": {
   "display_name": "Python 3 (ipykernel)",
   "language": "python",
   "name": "python3"
  },
  "language_info": {
   "codemirror_mode": {
    "name": "ipython",
    "version": 3
   },
   "file_extension": ".py",
   "mimetype": "text/x-python",
   "name": "python",
   "nbconvert_exporter": "python",
   "pygments_lexer": "ipython3",
   "version": "3.10.8"
  }
 },
 "nbformat": 4,
 "nbformat_minor": 5
}
